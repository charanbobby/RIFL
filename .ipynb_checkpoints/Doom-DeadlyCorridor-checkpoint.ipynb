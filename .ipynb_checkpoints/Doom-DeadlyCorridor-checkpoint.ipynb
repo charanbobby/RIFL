{
 "cells": [
  {
   "cell_type": "code",
   "execution_count": null,
   "id": "e3c93b66-c726-46a1-8d05-09c70e68a796",
   "metadata": {},
   "outputs": [],
   "source": [
    "# Import vizdoom for game env\n",
    "from vizdoom import *\n",
    "# Import radom action for sampling random actions\n",
    "import random\n",
    "# Import time for sleep\n",
    "import time\n",
    "# Import numpy for identity matrix\n",
    "import numpy as np\n",
    "# Import environment base class from OpenAI gym\n",
    "from gym import Env\n",
    "# Import gym spaces for defining the action space, Box returns a n-dim array, Discrete is a set of binary values\n",
    "from gym.spaces import Discrete, Box\n",
    "# Import opencv for image processing (grayscaling)\n",
    "import cv2\n",
    "# Import matplotlib \n",
    "from matplotlib import pyplot as plt"
   ]
  },
  {
   "cell_type": "code",
   "execution_count": 20,
   "id": "555d314e-0b2f-4b13-b746-8fda2cbf502f",
   "metadata": {},
   "outputs": [],
   "source": [
    "# Setup the game\n",
    "game = DoomGame()\n",
    "game.load_config('ViZDoom/gtihub/ViZDoom/scenarios/deadly_corridor_s1.cfg')\n",
    "game.init()"
   ]
  },
  {
   "cell_type": "code",
   "execution_count": 21,
   "id": "ff30aae3-b3ab-446b-aa4f-aa2e8bbb611b",
   "metadata": {},
   "outputs": [],
   "source": [
    "actions = np.identity(7, dtype=np.uint8)"
   ]
  },
  {
   "cell_type": "code",
   "execution_count": null,
   "id": "e54c4a8c-0f82-4aea-83a0-4efd99234432",
   "metadata": {},
   "outputs": [],
   "source": [
    "# loop through the episodes\n",
    "episodes = 10\n",
    "for episode in range(episodes):\n",
    "    game.new_episode()\n",
    "    while not game.is_episode_finished():\n",
    "        state = game.get_state()\n",
    "        img = state.screen_buffer\n",
    "        info = state.game_variables        \n",
    "        reward = game.make_action(random.choice(actions),4)\n",
    "        print('reward', reward)\n",
    "        time.sleep(0.02)\n",
    "    print('Result', game.get_total_reward())\n",
    "    time.sleep(2)"
   ]
  },
  {
   "cell_type": "code",
   "execution_count": null,
   "id": "a9dee428-a632-477b-8725-df598db0bf1d",
   "metadata": {},
   "outputs": [],
   "source": [
    "game.close()"
   ]
  },
  {
   "cell_type": "code",
   "execution_count": null,
   "id": "8675d9bd-7d67-4ce3-b413-935f9719753b",
   "metadata": {},
   "outputs": [],
   "source": [
    "class VizDoomEnv(Env):\n",
    "    # function that is called when we start env\n",
    "    def __init__(self, render = False, config='ViZDoom/gtihub/ViZDoom/scenarios/deadly_corridor.cfg'):\n",
    "        # Inherit from Env\n",
    "        super().__init__()\n",
    "        \n",
    "        self.game = DoomGame()\n",
    "        self.game.load_config(config)\n",
    "\n",
    "        self.observation_space = Box(low =0, high = 255, shape = (100, 160, 1), dtype = np.uint8)\n",
    "        self.action_space = Discrete(7)\n",
    "\n",
    "        # game variables : HEALTH DAMAGE_TAKEN HITCOUNT SELECTED_WEAPON_AMMO\n",
    "        self.damage_taken = 0\n",
    "        self.hitcount = 0\n",
    "        self.ammo = 52\n",
    "\n",
    "        # render frame logic\n",
    "        if render == False:\n",
    "            self.game.set_window_visible(False)\n",
    "        else:\n",
    "            self.game.set_window_visible(True)\n",
    "\n",
    "        # start the game\n",
    "        self.game.init()\n",
    "\n",
    "        \n",
    "    # this is how we take a step in the environment    \n",
    "    def step(self, action):\n",
    "        # actions = array([[1, 0, 0],\n",
    "        ##                 [0, 1, 0],\n",
    "        ##                 [0, 0, 1]], dtype=uint8)\n",
    "        \n",
    "        actions = np.identity(7, dtype = np.uint8)\n",
    "\n",
    "        # take an action with a frameskip of 4 - frameskip is needed for AI to get feedback\n",
    "        movement_reward = self.game.make_action(actions[action], 4)\n",
    "\n",
    "        reward = 0\n",
    "        if self.game.get_state():\n",
    "            # get the screen image and game variables\n",
    "            state = self.game.get_state().screen_buffer\n",
    "            state = self.grayscale(state)\n",
    "\n",
    "            ##### perform reward shaping ####\n",
    "            game_variables = self.game.get_state().game_variables\n",
    "            health, damage_taken, hitcount, ammo = game_variables\n",
    "\n",
    "            # calculate deltas, damage starts with past 10, current frame = 20 delta = -20 + 10 (disint\n",
    "            damage_taken_delta = self.damage_taken - damage_taken\n",
    "            self.damage_taken = damage_taken\n",
    "            hitcount_delta = - self.hitcount + hitcount\n",
    "            self.hitcount = hitcount\n",
    "            ammo_delta = - self.ammo + ammo\n",
    "            self.ammo = ammo\n",
    "\n",
    "            reward = movement_reward + damage_taken_delta*10 + hitcount_delta*200 + ammo_delta*5\n",
    "            info = ammo\n",
    "        # handling game end scenario when get_state and ammo are zeros\n",
    "        else:\n",
    "            state = np.zeros(self.observation_space.shape)\n",
    "            info = 0\n",
    "\n",
    "        info = {\"info\":info}\n",
    "        done = self.game.is_episode_finished()\n",
    "        return state, reward, done, info\n",
    "\n",
    "    # reset the instance \n",
    "    def reset(self):\n",
    "        self.game.new_episode()\n",
    "        state = self.game.get_state().screen_buffer            \n",
    "\n",
    "        # game variables : HEALTH DAMAGE_TAKEN HITCOUNT SELECTED_WEAPON_AMMO\n",
    "        self.damage_taken = 0\n",
    "        self.hitcount = 0\n",
    "        self.ammo = 52\n",
    "        \n",
    "        return self.grayscale(state)\n",
    "        \n",
    " \n",
    "    # grayscale the game frame and resize it \n",
    "    ## observation will be the gameframe\n",
    "    def grayscale(self, observation):\n",
    "        ## moveaxis will rearange the order in a way that cvtColor can accept\n",
    "        ### in this instance from (3, 240, 320) to (240, 320, 3) - color channels at the end\n",
    "        gray = cv2.cvtColor(np.moveaxis(observation, 0, -1), cv2.COLOR_BGR2GRAY)\n",
    "\n",
    "        ##cut the frame down to scale down and reduces the pixels\n",
    "        resize = cv2.resize(gray, (160, 100), interpolation = cv2.INTER_CUBIC)\n",
    "        state = np.reshape(resize, (100, 160, 1))\n",
    "        return state\n",
    "        \n",
    "   # this is already defined to render but vizdoom does this for us\n",
    "    def render():\n",
    "        pass \n",
    "        \n",
    "    def close(self):\n",
    "        self.game.close()"
   ]
  },
  {
   "cell_type": "code",
   "execution_count": 48,
   "id": "2c15064d-0338-40ca-a01f-acbfc32c8bea",
   "metadata": {},
   "outputs": [],
   "source": [
    "env = VizDoomEnv(render = True)"
   ]
  },
  {
   "cell_type": "code",
   "execution_count": 55,
   "id": "455830b2-a4f8-478d-87e9-d0cd176a25ed",
   "metadata": {},
   "outputs": [],
   "source": [
    "env.close()"
   ]
  },
  {
   "cell_type": "code",
   "execution_count": null,
   "id": "2d432ec1-f10f-4dde-ad9c-d85c5cee60c1",
   "metadata": {},
   "outputs": [],
   "source": [
    "# Import Environment checker\n",
    "from stable_baselines3.common import env_checker"
   ]
  },
  {
   "cell_type": "code",
   "execution_count": 50,
   "id": "5b9d29ab-4a7d-4662-a284-d79430c76935",
   "metadata": {},
   "outputs": [],
   "source": [
    "env_checker.check_env(env)"
   ]
  },
  {
   "cell_type": "markdown",
   "id": "0bf1fb37-1ce3-4c10-8365-96c128634ccd",
   "metadata": {},
   "source": [
    "# 3. View State"
   ]
  },
  {
   "cell_type": "code",
   "execution_count": null,
   "id": "391a3dbc-4ab0-4bb1-b26c-c6ca77f99403",
   "metadata": {
    "scrolled": true
   },
   "outputs": [],
   "source": [
    "plt.imshow(cv2.cvtColor(state, cv2.COLOR_BGR2RGB))"
   ]
  },
  {
   "cell_type": "markdown",
   "id": "7a531f67-83cf-4fed-a071-39cc86eff0c8",
   "metadata": {},
   "source": [
    "# 4. Set up CallBack"
   ]
  },
  {
   "cell_type": "code",
   "execution_count": null,
   "id": "5c16917c-eb40-4bc4-b6de-8bbfc6e153c1",
   "metadata": {},
   "outputs": [],
   "source": [
    "# Import os for file navigation\n",
    "import os\n",
    "# Import callback class from sb3\n",
    "from stable_baselines3.common.callbacks import BaseCallback"
   ]
  },
  {
   "cell_type": "code",
   "execution_count": null,
   "id": "f7095e30-f2a2-471f-8c18-737e6530d428",
   "metadata": {},
   "outputs": [],
   "source": [
    "class TrainingLoggingCallback(BaseCallback):\n",
    "\n",
    "    def __init__(self, check_freq, save_path, verbose=1):\n",
    "        super(TrainingLoggingCallback, self).__init__(verbose)\n",
    "        self.check_freq = check_freq\n",
    "        self.save_path = save_path\n",
    "\n",
    "    def _init_callback(self):\n",
    "        if self.save_path is not None:\n",
    "            os.makedirs(self.save_path, exist_ok=True)\n",
    "\n",
    "    def _on_step(self):\n",
    "        if self.n_calls % self.check_freq == 0:\n",
    "            model_path = os.path.join(self.save_path, 'best_model_{}'.format(self.n_calls))\n",
    "            self.model.save(model_path)\n",
    "\n",
    "        return True"
   ]
  },
  {
   "cell_type": "code",
   "execution_count": null,
   "id": "d5c38799-2b4c-401c-90f9-2a0d3ecab277",
   "metadata": {},
   "outputs": [],
   "source": [
    "CHECKPOINT_DIR = './train/train_deadly_corridor'\n",
    "LOG_DIR = './logs/log_deadly_corridor'"
   ]
  },
  {
   "cell_type": "code",
   "execution_count": null,
   "id": "5a8dacbb-202d-4c22-8d35-4e0cd34e59c9",
   "metadata": {},
   "outputs": [],
   "source": [
    "# Setup the call back\n",
    "callback = TrainingLoggingCallback(check_freq=10000, save_path=CHECKPOINT_DIR)"
   ]
  },
  {
   "cell_type": "markdown",
   "id": "57aecfbe-a05b-4aa8-b6cc-159c73524acf",
   "metadata": {},
   "source": [
    "# 5 Train Model using Curriculum"
   ]
  },
  {
   "cell_type": "code",
   "execution_count": null,
   "id": "8b17189e-4f99-4ec8-afa2-bf5b670ff850",
   "metadata": {},
   "outputs": [],
   "source": [
    "# Import PPO (Proximal Policy Optimization) for algorithm \n",
    "from stable_baselines3 import PPO "
   ]
  },
  {
   "cell_type": "code",
   "execution_count": null,
   "id": "a890b15c-e1b8-4c56-b314-befebafe071f",
   "metadata": {},
   "outputs": [],
   "source": [
    "# Non rendered environment\n",
    "env = VizDoomEnv(config='ViZDoom/gtihub/ViZDoom/scenarios/deadly_corridor_s1.cfg')"
   ]
  },
  {
   "cell_type": "code",
   "execution_count": null,
   "id": "80207bff-14d1-4778-91a4-8ffc84481fcb",
   "metadata": {
    "scrolled": true
   },
   "outputs": [],
   "source": [
    "#n_steps = how many time_frames that are passed as a part of initial run - larger the value more info is passed and longer to learn\n",
    "model = PPO('CnnPolicy', env, tensorboard_log = LOG_DIR, verbose = 1, learning_rate = 0.00001, n_steps = 8192, clip_range=.1, gamma=.95, gae_lambda = .9)"
   ]
  },
  {
   "cell_type": "code",
   "execution_count": null,
   "id": "0e234143-1d6e-4c94-9d6f-86c95f7c87a2",
   "metadata": {},
   "outputs": [],
   "source": [
    "#model = PPO.load('./train/train_basic/best_model_100000', tensorboard_log=LOG_DIR)\n",
    "#model.set_env(env)\n",
    "#model.learning_rate = 0.0000001"
   ]
  },
  {
   "cell_type": "code",
   "execution_count": null,
   "id": "045ec403-c73b-4230-bd99-6d6d1d9773a2",
   "metadata": {},
   "outputs": [],
   "source": [
    "model.learn(total_timesteps = 400000, callback = callback)"
   ]
  },
  {
   "cell_type": "markdown",
   "id": "f6abad67-e4a1-47fa-b8e3-b384e447561a",
   "metadata": {},
   "source": [
    "# 6 Test the Model "
   ]
  },
  {
   "cell_type": "code",
   "execution_count": null,
   "id": "541ceaff-7dd0-4d85-adbd-5456ebdef083",
   "metadata": {},
   "outputs": [],
   "source": [
    "# Import eval policy to test agent\n",
    "from stable_baselins3.common.evaluation import evaluate_policy"
   ]
  },
  {
   "cell_type": "code",
   "execution_count": null,
   "id": "594f9838-25af-4189-8d37-e53356e5d285",
   "metadata": {},
   "outputs": [],
   "source": [
    "# reload model from disk\n",
    "model = PPO.load('./train/train_basic/best_model_170000')"
   ]
  },
  {
   "cell_type": "code",
   "execution_count": null,
   "id": "2d8a5343-5ee6-41a8-ba6d-da06af9ff0d0",
   "metadata": {},
   "outputs": [],
   "source": [
    "env = VizDoomEnv(render = True)"
   ]
  },
  {
   "cell_type": "code",
   "execution_count": null,
   "id": "fb988fdd-4e22-4f6c-bf08-705feb251440",
   "metadata": {},
   "outputs": [],
   "source": [
    "# evaluate mean reward for 10 games\n",
    "mean_reward, _ = evaluate_policy(model, env, n_eval_episodes = 10)"
   ]
  },
  {
   "cell_type": "code",
   "execution_count": null,
   "id": "38625c9f-8f52-4bc8-8bed-46359d2bca4d",
   "metadata": {},
   "outputs": [],
   "source": [
    "mean_reward"
   ]
  },
  {
   "cell_type": "code",
   "execution_count": null,
   "id": "7070c6e8-a768-4613-808a-e6d1c55268ff",
   "metadata": {},
   "outputs": [],
   "source": []
  }
 ],
 "metadata": {
  "kernelspec": {
   "display_name": "Python 3.8 (new_env_py38)",
   "language": "python",
   "name": "new_env_py38"
  },
  "language_info": {
   "codemirror_mode": {
    "name": "ipython",
    "version": 3
   },
   "file_extension": ".py",
   "mimetype": "text/x-python",
   "name": "python",
   "nbconvert_exporter": "python",
   "pygments_lexer": "ipython3",
   "version": "3.8.10"
  }
 },
 "nbformat": 4,
 "nbformat_minor": 5
}
