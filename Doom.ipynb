{
 "cells": [
  {
   "cell_type": "code",
   "execution_count": 13,
   "id": "e3c93b66-c726-46a1-8d05-09c70e68a796",
   "metadata": {},
   "outputs": [],
   "source": [
    "# Import vizdoom for game env\n",
    "from vizdoom import *\n",
    "# Import radom action for sampling random actions\n",
    "import random\n",
    "# Import time for sleep\n",
    "import time\n",
    "# Import numpy for identity matrix\n",
    "import numpy as np\n",
    "# Import environment base class from OpenAI gym\n",
    "from gym import Env\n",
    "# Import gym spaces for defining the action space, Box returns a n-dim array, Discrete returns a single value\n",
    "from gym.spaces import Discrete, Box\n",
    "# Import opencv for image processing (grayscaling)\n",
    "import cv2"
   ]
  },
  {
   "cell_type": "code",
   "execution_count": 18,
   "id": "8675d9bd-7d67-4ce3-b413-935f9719753b",
   "metadata": {},
   "outputs": [],
   "source": [
    "class VizDoomEnv(Env):\n",
    "    def __init__(self, render = False):\n",
    "        self.game = DoomGame()\n",
    "        # Render the game only when we want to visualize it\n",
    "        if render == False:\n",
    "            self.game.set_window_visible(False)\n",
    "        else:\n",
    "            self.game.set_window_visible(True)\n",
    "        self.game.init()\n",
    "\n",
    "    def close(self):\n",
    "        self.game.close()\n",
    "        "
   ]
  },
  {
   "cell_type": "code",
   "execution_count": 26,
   "id": "2c15064d-0338-40ca-a01f-acbfc32c8bea",
   "metadata": {},
   "outputs": [],
   "source": [
    "env = VizDoomEnv(render = True)"
   ]
  },
  {
   "cell_type": "code",
   "execution_count": 25,
   "id": "fe45f795-3881-4194-9f6e-e3bc29ea7b83",
   "metadata": {},
   "outputs": [],
   "source": [
    "env.close()"
   ]
  },
  {
   "cell_type": "code",
   "execution_count": null,
   "id": "8199ae1a-c3a6-4ec2-be02-b2d5efe020a9",
   "metadata": {},
   "outputs": [],
   "source": []
  }
 ],
 "metadata": {
  "kernelspec": {
   "display_name": "Python 3.8 (new_env_py38)",
   "language": "python",
   "name": "new_env_py38"
  },
  "language_info": {
   "codemirror_mode": {
    "name": "ipython",
    "version": 3
   },
   "file_extension": ".py",
   "mimetype": "text/x-python",
   "name": "python",
   "nbconvert_exporter": "python",
   "pygments_lexer": "ipython3",
   "version": "3.8.10"
  }
 },
 "nbformat": 4,
 "nbformat_minor": 5
}
